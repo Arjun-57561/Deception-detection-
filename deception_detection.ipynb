{
  "metadata": {
    "kernelspec": {
      "language": "python",
      "display_name": "Python 3",
      "name": "python3"
    },
    "language_info": {
      "name": "python",
      "version": "3.11.11",
      "mimetype": "text/x-python",
      "codemirror_mode": {
        "name": "ipython",
        "version": 3
      },
      "pygments_lexer": "ipython3",
      "nbconvert_exporter": "python",
      "file_extension": ".py"
    },
    "kaggle": {
      "accelerator": "gpu",
      "dataSources": [
        {
          "sourceId": 10414711,
          "sourceType": "datasetVersion",
          "datasetId": 6454719
        }
      ],
      "dockerImageVersionId": 31012,
      "isInternetEnabled": false,
      "language": "python",
      "sourceType": "notebook",
      "isGpuEnabled": true
    },
    "colab": {
      "name": "deception detection",
      "provenance": []
    }
  },
  "nbformat_minor": 0,
  "nbformat": 4,
  "cells": [
    {
      "source": [
        "# IMPORTANT: RUN THIS CELL IN ORDER TO IMPORT YOUR KAGGLE DATA SOURCES,\n",
        "# THEN FEEL FREE TO DELETE THIS CELL.\n",
        "# NOTE: THIS NOTEBOOK ENVIRONMENT DIFFERS FROM KAGGLE'S PYTHON\n",
        "# ENVIRONMENT SO THERE MAY BE MISSING LIBRARIES USED BY YOUR\n",
        "# NOTEBOOK.\n",
        "import kagglehub\n",
        "shoaib2580_truthfull_path = kagglehub.dataset_download('shoaib2580/truthfull')\n",
        "\n",
        "print('Data source import complete.')\n"
      ],
      "metadata": {
        "id": "QlwkR0Y7oKvl"
      },
      "cell_type": "code",
      "outputs": [],
      "execution_count": null
    },
    {
      "cell_type": "code",
      "source": [
        "# This Python 3 environment comes with many helpful analytics libraries installed\n",
        "# It is defined by the kaggle/python Docker image: https://github.com/kaggle/docker-python\n",
        "# For example, here's several helpful packages to load\n",
        "\n",
        "import numpy as np # linear algebra\n",
        "import pandas as pd # data processing, CSV file I/O (e.g. pd.read_csv)\n",
        "\n",
        "# Input data files are available in the read-only \"../input/\" directory\n",
        "# For example, running this (by clicking run or pressing Shift+Enter) will list all files under the input directory\n",
        "\n",
        "import os\n",
        "for dirname, _, filenames in os.walk('/kaggle/input'):\n",
        "    for filename in filenames:\n",
        "        print(os.path.join(dirname, filename))\n",
        "\n",
        "# You can write up to 20GB to the current directory (/kaggle/working/) that gets preserved as output when you create a version using \"Save & Run All\"\n",
        "# You can also write temporary files to /kaggle/temp/, but they won't be saved outside of the current session"
      ],
      "metadata": {
        "_uuid": "3b9b51d1-20f9-4191-92db-5b2c86e0d9eb",
        "_cell_guid": "aa866ec4-8089-4160-a321-92cf61e7a797",
        "trusted": true,
        "jupyter": {
          "outputs_hidden": false
        },
        "execution": {
          "iopub.status.busy": "2025-04-12T15:09:22.585178Z",
          "iopub.execute_input": "2025-04-12T15:09:22.585495Z",
          "iopub.status.idle": "2025-04-12T15:09:25.365602Z",
          "shell.execute_reply.started": "2025-04-12T15:09:22.585463Z",
          "shell.execute_reply": "2025-04-12T15:09:25.364766Z"
        },
        "id": "cEWIEq_goKvq"
      },
      "outputs": [],
      "execution_count": null
    },
    {
      "cell_type": "code",
      "source": [
        "import os\n",
        "from moviepy.editor import VideoFileClip\n",
        "\n",
        "# Define source folders (read-only)\n",
        "base_path = \"/kaggle/input/truthfull/Real-life_Deception_Detection_2016/Clips\"\n",
        "deceptive_path = os.path.join(base_path, \"Deceptive\")\n",
        "truthful_path = os.path.join(base_path, \"Truthful\")\n",
        "\n",
        "# Define output folders (writable)\n",
        "output_base = \"/kaggle/working/audio\"\n",
        "deceptive_output = os.path.join(output_base, \"Deceptive\")\n",
        "truthful_output = os.path.join(output_base, \"Truthful\")\n",
        "\n",
        "# Create output directories if they don't exist\n",
        "os.makedirs(deceptive_output, exist_ok=True)\n",
        "os.makedirs(truthful_output, exist_ok=True)\n",
        "\n",
        "def extract_audio(video_folder, output_folder):\n",
        "    for filename in os.listdir(video_folder):\n",
        "        if filename.endswith(\".mp4\"):\n",
        "            video_path = os.path.join(video_folder, filename)\n",
        "            audio_path = os.path.join(output_folder, filename.replace(\".mp4\", \".wav\"))\n",
        "            try:\n",
        "                clip = VideoFileClip(video_path)\n",
        "                clip.audio.write_audiofile(audio_path, verbose=False, logger=None)\n",
        "                print(f\"✅ Extracted: {filename}\")\n",
        "            except Exception as e:\n",
        "                print(f\"❌ Failed to extract {filename}: {e}\")\n",
        "\n",
        "# Extract from both folders\n",
        "extract_audio(deceptive_path, deceptive_output)\n",
        "extract_audio(truthful_path, truthful_output)\n"
      ],
      "metadata": {
        "trusted": true,
        "execution": {
          "iopub.status.busy": "2025-04-12T15:09:25.367584Z",
          "iopub.execute_input": "2025-04-12T15:09:25.370429Z",
          "iopub.status.idle": "2025-04-12T15:10:26.275674Z",
          "shell.execute_reply.started": "2025-04-12T15:09:25.370396Z",
          "shell.execute_reply": "2025-04-12T15:10:26.274679Z"
        },
        "id": "snaqF8m-oKvr"
      },
      "outputs": [],
      "execution_count": null
    },
    {
      "cell_type": "code",
      "source": [
        "from IPython.display import Audio, display\n",
        "\n",
        "# Example: play one Deceptive clip\n",
        "audio_path = \"/kaggle/working/audio/Truthful/trial_truth_002.wav\"\n",
        "display(Audio(audio_path))\n"
      ],
      "metadata": {
        "trusted": true,
        "execution": {
          "iopub.status.busy": "2025-04-12T15:10:26.276855Z",
          "iopub.execute_input": "2025-04-12T15:10:26.27746Z",
          "iopub.status.idle": "2025-04-12T15:10:26.690182Z",
          "shell.execute_reply.started": "2025-04-12T15:10:26.277428Z",
          "shell.execute_reply": "2025-04-12T15:10:26.689062Z"
        },
        "id": "fxjcEGpZoKvr"
      },
      "outputs": [],
      "execution_count": null
    },
    {
      "cell_type": "markdown",
      "source": [
        "# Normalization"
      ],
      "metadata": {
        "id": "4GlpicA7oKvs"
      }
    },
    {
      "cell_type": "code",
      "source": [
        "import os\n",
        "import librosa\n",
        "import soundfile as sf\n",
        "\n",
        "# Input folders\n",
        "input_base = \"/kaggle/working/audio\"\n",
        "deceptive_folder = os.path.join(input_base, \"Deceptive\")\n",
        "truthful_folder = os.path.join(input_base, \"Truthful\")\n",
        "\n",
        "# Output folders\n",
        "processed_base = \"/kaggle/working/processed_audio\"\n",
        "os.makedirs(processed_base, exist_ok=True)\n",
        "deceptive_out = os.path.join(processed_base, \"Deceptive\")\n",
        "truthful_out = os.path.join(processed_base, \"Truthful\")\n",
        "os.makedirs(deceptive_out, exist_ok=True)\n",
        "os.makedirs(truthful_out, exist_ok=True)\n",
        "\n",
        "def preprocess_audio(input_path, output_path, sr=16000):\n",
        "    try:\n",
        "        audio, _ = librosa.load(input_path, sr=sr, mono=True)\n",
        "        audio = librosa.util.normalize(audio)\n",
        "        sf.write(output_path, audio, sr)\n",
        "        return True\n",
        "    except Exception as e:\n",
        "        print(f\"❌ Error: {e} for {input_path}\")\n",
        "        return False\n",
        "\n",
        "def process_folder(input_folder, output_folder):\n",
        "    for file in os.listdir(input_folder):\n",
        "        if file.endswith(\".wav\"):\n",
        "            inp = os.path.join(input_folder, file)\n",
        "            out = os.path.join(output_folder, file)\n",
        "            if preprocess_audio(inp, out):\n",
        "                print(f\"✅ Processed: {file}\")\n",
        "\n",
        "# Run preprocessing\n",
        "print(\"🔄 Processing Deceptive audio...\")\n",
        "process_folder(deceptive_folder, deceptive_out)\n",
        "\n",
        "print(\"🔄 Processing Truthful audio...\")\n",
        "process_folder(truthful_folder, truthful_out)\n"
      ],
      "metadata": {
        "trusted": true,
        "execution": {
          "iopub.status.busy": "2025-04-12T15:10:26.690897Z",
          "iopub.execute_input": "2025-04-12T15:10:26.691169Z",
          "iopub.status.idle": "2025-04-12T15:10:53.375786Z",
          "shell.execute_reply.started": "2025-04-12T15:10:26.691148Z",
          "shell.execute_reply": "2025-04-12T15:10:53.374682Z"
        },
        "id": "OPVCJgc3oKvt"
      },
      "outputs": [],
      "execution_count": null
    },
    {
      "cell_type": "code",
      "source": [
        "import os\n",
        "import librosa\n",
        "import numpy as np\n",
        "import pandas as pd\n",
        "from sklearn.model_selection import train_test_split\n",
        "from sklearn.ensemble import RandomForestClassifier\n",
        "from sklearn.metrics import classification_report\n",
        "\n",
        "# Paths\n",
        "base_audio = \"/kaggle/working/audio\"\n",
        "deceptive_audio = os.path.join(base_audio, \"Deceptive\")\n",
        "truthful_audio = os.path.join(base_audio, \"Truthful\")\n",
        "\n",
        "def extract_mfcc(file_path, n_mfcc=13):\n",
        "    y, sr = librosa.load(file_path, sr=None)\n",
        "    mfcc = librosa.feature.mfcc(y=y, sr=sr, n_mfcc=n_mfcc)\n",
        "    return np.mean(mfcc.T, axis=0)  # Flatten to 1D\n",
        "\n",
        "# Load data\n",
        "data = []\n",
        "labels = []\n",
        "\n",
        "# Deceptive\n",
        "for file in os.listdir(deceptive_audio):\n",
        "    if file.endswith(\".wav\"):\n",
        "        path = os.path.join(deceptive_audio, file)\n",
        "        mfcc_feat = extract_mfcc(path)\n",
        "        data.append(mfcc_feat)\n",
        "        labels.append(1)  # 1 for lie\n",
        "\n",
        "# Truthful\n",
        "for file in os.listdir(truthful_audio):\n",
        "    if file.endswith(\".wav\"):\n",
        "        path = os.path.join(truthful_audio, file)\n",
        "        mfcc_feat = extract_mfcc(path)\n",
        "        data.append(mfcc_feat)\n",
        "        labels.append(0)  # 0 for truth\n",
        "\n",
        "# Convert to DataFrame\n",
        "X = np.array(data)\n",
        "y = np.array(labels)\n",
        "\n",
        "# Train/test split\n",
        "X_train, X_test, y_train, y_test = train_test_split(X, y, test_size=0.2, random_state=42)\n",
        "\n",
        "# Train a classifier\n",
        "clf = RandomForestClassifier()\n",
        "clf.fit(X_train, y_train)\n",
        "\n",
        "# Evaluation\n",
        "y_pred = clf.predict(X_test)\n",
        "print(classification_report(y_test, y_pred))\n"
      ],
      "metadata": {
        "trusted": true,
        "execution": {
          "iopub.status.busy": "2025-04-12T15:10:53.376953Z",
          "iopub.execute_input": "2025-04-12T15:10:53.377561Z",
          "iopub.status.idle": "2025-04-12T15:11:10.54826Z",
          "shell.execute_reply.started": "2025-04-12T15:10:53.377528Z",
          "shell.execute_reply": "2025-04-12T15:11:10.546952Z"
        },
        "id": "tg5wuMVVoKvu"
      },
      "outputs": [],
      "execution_count": null
    },
    {
      "cell_type": "code",
      "source": [
        "import os\n",
        "import librosa\n",
        "import numpy as np\n",
        "import pandas as pd\n",
        "from sklearn.model_selection import train_test_split\n",
        "from xgboost import XGBClassifier\n",
        "from sklearn.metrics import classification_report\n",
        "\n",
        "# Paths\n",
        "base_audio = \"/kaggle/working/audio\"\n",
        "deceptive_audio = os.path.join(base_audio, \"Deceptive\")\n",
        "truthful_audio = os.path.join(base_audio, \"Truthful\")\n",
        "\n",
        "# Function to extract MFCC features\n",
        "def extract_mfcc(file_path, n_mfcc=13):\n",
        "    y, sr = librosa.load(file_path, sr=None)\n",
        "    mfcc = librosa.feature.mfcc(y=y, sr=sr, n_mfcc=n_mfcc)\n",
        "    return np.mean(mfcc.T, axis=0)  # Flatten to 1D\n",
        "\n",
        "# Load data\n",
        "data = []\n",
        "labels = []\n",
        "\n",
        "# Deceptive\n",
        "for file in os.listdir(deceptive_audio):\n",
        "    if file.endswith(\".wav\"):\n",
        "        path = os.path.join(deceptive_audio, file)\n",
        "        mfcc_feat = extract_mfcc(path)\n",
        "        data.append(mfcc_feat)\n",
        "        labels.append(1)  # 1 for lie\n",
        "\n",
        "# Truthful\n",
        "for file in os.listdir(truthful_audio):\n",
        "    if file.endswith(\".wav\"):\n",
        "        path = os.path.join(truthful_audio, file)\n",
        "        mfcc_feat = extract_mfcc(path)\n",
        "        data.append(mfcc_feat)\n",
        "        labels.append(0)  # 0 for truth\n",
        "\n",
        "# Convert to DataFrame\n",
        "X = np.array(data)\n",
        "y = np.array(labels)\n",
        "\n",
        "# Train/test split\n",
        "X_train, X_test, y_train, y_test = train_test_split(X, y, test_size=0.2, random_state=42)\n",
        "\n",
        "# Train an XGBoost classifier\n",
        "clf = XGBClassifier(eval_metric='mlogloss', use_label_encoder=False)\n",
        "clf.fit(X_train, y_train)\n",
        "\n",
        "# Evaluation\n",
        "y_pred = clf.predict(X_test)\n",
        "print(classification_report(y_test, y_pred))\n"
      ],
      "metadata": {
        "trusted": true,
        "execution": {
          "iopub.status.busy": "2025-04-12T15:11:10.550647Z",
          "iopub.execute_input": "2025-04-12T15:11:10.551256Z",
          "iopub.status.idle": "2025-04-12T15:11:25.500339Z",
          "shell.execute_reply.started": "2025-04-12T15:11:10.551228Z",
          "shell.execute_reply": "2025-04-12T15:11:25.498475Z"
        },
        "id": "XCMg3diroKvv"
      },
      "outputs": [],
      "execution_count": null
    },
    {
      "cell_type": "code",
      "source": [],
      "metadata": {
        "trusted": true,
        "id": "WkGv_igUoKvv"
      },
      "outputs": [],
      "execution_count": null
    },
    {
      "cell_type": "markdown",
      "source": [
        "# textual"
      ],
      "metadata": {
        "id": "mdZkIDMmoKvw"
      }
    },
    {
      "cell_type": "code",
      "source": [],
      "metadata": {
        "trusted": true,
        "id": "dzGgibyXoKvw"
      },
      "outputs": [],
      "execution_count": null
    }
  ]
}